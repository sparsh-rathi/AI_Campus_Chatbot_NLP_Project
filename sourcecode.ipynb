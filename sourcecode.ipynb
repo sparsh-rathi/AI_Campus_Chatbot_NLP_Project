{
 "cells": [
  {
   "cell_type": "code",
   "execution_count": 1,
   "id": "9a071f14-320d-4b59-abe4-db3898f03cd9",
   "metadata": {},
   "outputs": [
    {
     "name": "stderr",
     "output_type": "stream",
     "text": [
      "[nltk_data] Downloading package wordnet to\n",
      "[nltk_data]     C:\\Users\\Siddharth\\AppData\\Roaming\\nltk_data...\n",
      "[nltk_data]   Package wordnet is already up-to-date!\n"
     ]
    }
   ],
   "source": [
    "import nltk\n",
    "nltk.download('wordnet')\n",
    "from nltk.stem import WordNetLemmatizer\n",
    "lemmatizer = WordNetLemmatizer()\n",
    "import pickle\n",
    "import numpy as np\n",
    "from tensorflow.keras.models import load_model\n",
    "model = load_model('chatbot_model.h5')\n",
    "import json\n",
    "import random\n",
    "from pprint import pprint\n",
    "intents = json.loads(open('nlp.json').read())\n",
    "words = pickle.load(open('words.pkl','rb'))\n",
    "classes = pickle.load(open('classes.pkl','rb'))\n"
   ]
  },
  {
   "cell_type": "code",
   "execution_count": 2,
   "id": "bc883c01-0e0c-437e-99dd-b8c74088df7c",
   "metadata": {},
   "outputs": [],
   "source": [
    "def clean_up_sentence(sentence):\n",
    "    # tokenize the pattern - split words into array\n",
    "    sentence_words = nltk.word_tokenize(sentence)\n",
    "    # stem each word - create short form for word\n",
    "    sentence_words = [lemmatizer.lemmatize(word.lower()) for word in sentence_words]\n",
    "    return sentence_words\n",
    "\n",
    "# return bag of words array: 0 or 1 for each word in the bag that exists in the sentence\n",
    "\n",
    "def bow(sentence, words, show_details=True):\n",
    "    # tokenize the pattern\n",
    "    sentence_words = clean_up_sentence(sentence)\n",
    "    # bag of words - matrix of N words, vocabulary matrix\n",
    "    bag = [0]*len(words)  \n",
    "    for s in sentence_words:\n",
    "        for i,w in enumerate(words):\n",
    "            if w == s: \n",
    "                # assign 1 if current word is in the vocabulary position\n",
    "                bag[i] = 1\n",
    "                if show_details:\n",
    "                    print (\"found in bag: %s\" % w)\n",
    "    return(np.array(bag))\n",
    "\n",
    "def predict_class(sentence, model):\n",
    "    \n",
    "    p = bow(sentence, words,show_details=False)\n",
    "    res = model.predict(np.array([p]))[0]\n",
    "    ERROR_THRESHOLD = 0.25\n",
    "    results = [[i,r] for i,r in enumerate(res) if r>ERROR_THRESHOLD]\n",
    "    # sort by strength of probability\n",
    "    results.sort(key=lambda x: x[1], reverse=True)\n",
    "    return_list = []\n",
    "    for r in results:\n",
    "        return_list.append({\"intent\": classes[r[0]], \"probability\": str(r[1])})\n",
    "        \n",
    "    return return_list\n",
    "\n",
    "def getResponse(sen, ints, intents_json):\n",
    "    tag = ints[0]['intent']\n",
    "    result=\"\"\n",
    "    list_of_intents = intents_json['intents']\n",
    "    for i in list_of_intents:\n",
    "        if(i['tag']== tag):\n",
    "            if (i['tag'] == 'greeting' or i['tag'] == 'goodbye' or i['tag'] == 'thanks'  or i['tag'] == 'noanswer' or i['tag'] == 'options' or i['tag'] == 'joke' or i['tag'] == 'python_is_best' or i['tag'] == 'students_info'):\n",
    "                result = random.choice(i['responses'])\n",
    "                break\n",
    "            elif(i['tag']== 'get_student_name'):\n",
    "                lis = list(sen.split(' '))\n",
    "                l= len(lis)\n",
    "                j= lis[l-1]\n",
    "                k=\"\".join(j)\n",
    "                sn=i['responses']\n",
    "                for a in sn:\n",
    "                    for b in a['students']:\n",
    "                        if(b.lower() == k.lower()):\n",
    "                            result =  a['students'][b]\n",
    "                            break\n",
    "                        else:\n",
    "                            continue\n",
    "                if(result==\"\"):\n",
    "                    result=\"name for given roll number not found\"\n",
    "            elif(i['tag']== 'get_student_roll'):\n",
    "                lis = list(sen.split(' '))\n",
    "                for idx,val in enumerate(lis):\n",
    "                    if(val =='of'):\n",
    "                        n=idx\n",
    "                        break\n",
    "                j= lis[n+1:]\n",
    "                k=\"\".join(j)\n",
    "                sid=i['responses']\n",
    "                for a in sid:\n",
    "                    for b in a['students']:\n",
    "                        if((a['students'][b].replace(' ', '').lower())==(k.replace(' ', '').lower())):\n",
    "                            result = b\n",
    "                            break\n",
    "                        else:\n",
    "                            continue\n",
    "                if(result==\"\"):\n",
    "                    result=\" roll number for given student name not fount\"\n",
    "    \n",
    "    return result\n",
    "\n",
    "def chatbot_response(msg):\n",
    "    ints = predict_class(msg, model)\n",
    "    res = getResponse(msg, ints, intents)\n",
    "    return res"
   ]
  },
  {
   "cell_type": "code",
   "execution_count": 3,
   "id": "483c0e69-67cf-46eb-8d26-81b575b5a0e8",
   "metadata": {},
   "outputs": [
    {
     "name": "stdout",
     "output_type": "stream",
     "text": [
      "Chatbot CLI - Type 'exit' to end the conversation.\n"
     ]
    },
    {
     "name": "stdin",
     "output_type": "stream",
     "text": [
      "You:  roll number of siddharth   pisipati\n"
     ]
    },
    {
     "name": "stdout",
     "output_type": "stream",
     "text": [
      "You: roll number of siddharth   pisipati\n",
      "1/1 [==============================] - 0s 493ms/step\n",
      "Bot: SE21UARI152\n"
     ]
    },
    {
     "name": "stdin",
     "output_type": "stream",
     "text": [
      "You:  give me roll number of prachi kansal\n"
     ]
    },
    {
     "name": "stdout",
     "output_type": "stream",
     "text": [
      "You: give me roll number of prachi kansal\n",
      "1/1 [==============================] - 0s 45ms/step\n",
      "Bot: SE21UARI105\n"
     ]
    },
    {
     "name": "stdin",
     "output_type": "stream",
     "text": [
      "You:  hi\n"
     ]
    },
    {
     "name": "stdout",
     "output_type": "stream",
     "text": [
      "You: hi\n",
      "1/1 [==============================] - 0s 47ms/step\n",
      "Bot: Hello, thanks for asking\n"
     ]
    },
    {
     "name": "stdin",
     "output_type": "stream",
     "text": [
      "You:  bye\n"
     ]
    },
    {
     "name": "stdout",
     "output_type": "stream",
     "text": [
      "You: bye\n",
      "1/1 [==============================] - 0s 47ms/step\n",
      "Bot: See you!\n"
     ]
    },
    {
     "name": "stdin",
     "output_type": "stream",
     "text": [
      "You:  exit\n"
     ]
    },
    {
     "name": "stdout",
     "output_type": "stream",
     "text": [
      "Goodbye!\n"
     ]
    }
   ],
   "source": [
    "def chat():\n",
    "    print(\"Chatbot CLI - Type 'exit' to end the conversation.\")\n",
    "    while True:\n",
    "        user_input = input(\"You: \")\n",
    "        \n",
    "        if user_input.lower() == 'exit':\n",
    "            print(\"Goodbye!\")\n",
    "            break\n",
    "\n",
    "        if user_input != '':\n",
    "            print(\"You: \" + user_input)\n",
    "\n",
    "            response = chatbot_response(user_input)\n",
    "            print(\"Bot:\", response)\n",
    "\n",
    "if __name__ == \"__main__\":\n",
    "    chat()"
   ]
  }
 ],
 "metadata": {
  "kernelspec": {
   "display_name": "Python 3 (ipykernel)",
   "language": "python",
   "name": "python3"
  },
  "language_info": {
   "codemirror_mode": {
    "name": "ipython",
    "version": 3
   },
   "file_extension": ".py",
   "mimetype": "text/x-python",
   "name": "python",
   "nbconvert_exporter": "python",
   "pygments_lexer": "ipython3",
   "version": "3.10.13"
  }
 },
 "nbformat": 4,
 "nbformat_minor": 5
}
